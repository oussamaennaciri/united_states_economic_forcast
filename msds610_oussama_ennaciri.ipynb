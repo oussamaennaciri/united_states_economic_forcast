{
 "cells": [
  {
   "cell_type": "markdown",
   "id": "8cd5efa0-c7be-4849-9aec-2bb3e940e513",
   "metadata": {},
   "source": [
    "## United States Economic Forecast Project- Oussama Ennaciri"
   ]
  },
  {
   "cell_type": "code",
   "execution_count": 55,
   "id": "f58914e4-48da-40a7-9146-c38d1473b683",
   "metadata": {},
   "outputs": [
    {
     "name": "stdout",
     "output_type": "stream",
     "text": [
      "Requirement already satisfied: psycopg2 in /opt/anaconda3/lib/python3.12/site-packages (2.9.10)\n"
     ]
    }
   ],
   "source": [
    "!pip install psycopg2"
   ]
  },
  {
   "cell_type": "code",
   "execution_count": 7,
   "id": "b2a28d44-9bbd-445e-8535-07d1054d177d",
   "metadata": {},
   "outputs": [],
   "source": [
    "import seaborn as sns\n",
    "import pandas as pd\n",
    "from sqlalchemy import create_engine"
   ]
  },
  {
   "cell_type": "markdown",
   "id": "0db04cbd-5b13-4745-9f43-b5ec468bbee4",
   "metadata": {},
   "source": [
    " The dataset consists of two tables based on the time intervals used in reporting, monthly or quarterly."
   ]
  },
  {
   "cell_type": "code",
   "execution_count": 9,
   "id": "b95d8a30-6321-49f0-b381-19ceb2227425",
   "metadata": {},
   "outputs": [],
   "source": [
    "monthly = pd.read_csv('economic_indicators/monthly.csv')\n",
    "quarterly = pd.read_csv('economic_indicators/quarterly.csv')"
   ]
  },
  {
   "cell_type": "markdown",
   "id": "a10ea806-6fd8-4447-96d3-daee39519b43",
   "metadata": {},
   "source": [
    "**Economic Indicators** : My data consists for macroeconomic indicators that I will use to predict cycles in the United States’ economic activity.\n",
    "|field_name|description|data_type|\n",
    "|---|---|---|\n",
    "|GDP|Gross Domestic Product|Continuous|\n",
    "|GDPC1|Real Gross Domestic Product|Continuous|\n",
    "|PCE|RPersonal Consumption Expenditures|Continuous|\n",
    "|HOUST|New Privately-Owned Housing |Discrete|\n",
    "|A053RC1Q027SBEA|National income: Corporate profits before tax|Continuous|\n",
    "|IMPGSC1|Real imports of goods and services|Continuous|\n",
    "|EXPGSC1|Real Exports of Goods and Services|Continuous|\n",
    "|GCEC1|Real Government Consumption Expenditures and Gross Investment|Continuous|\n",
    "|UNRATE|Unemployment Rate|Continuous|\n",
    "|FEDFUNDS|Federal Funds Effective Rate|Continuous|\n",
    "|GS10|Market Yield on U.S. Treasury Securities at 10-Year Constant Maturity|Continuous|\n",
    "|CPIAUCSL|Consumer Price Index for All Urban Consumers|Continuous|"
   ]
  },
  {
   "cell_type": "code",
   "execution_count": 11,
   "id": "c2798c23-13f9-45f0-ad27-46ad21ea540d",
   "metadata": {},
   "outputs": [
    {
     "name": "stdout",
     "output_type": "stream",
     "text": [
      "<class 'pandas.core.frame.DataFrame'>\n",
      "RangeIndex: 769 entries, 0 to 768\n",
      "Data columns (total 7 columns):\n",
      " #   Column            Non-Null Count  Dtype  \n",
      "---  ------            --------------  -----  \n",
      " 0   observation_date  769 non-null    object \n",
      " 1   PCE               769 non-null    float64\n",
      " 2   HOUST             769 non-null    int64  \n",
      " 3   UNRATE            769 non-null    float64\n",
      " 4   FEDFUNDS          769 non-null    float64\n",
      " 5   GS10              769 non-null    float64\n",
      " 6   CPIAUCSL          769 non-null    float64\n",
      "dtypes: float64(5), int64(1), object(1)\n",
      "memory usage: 42.2+ KB\n"
     ]
    }
   ],
   "source": [
    "monthly.info()"
   ]
  },
  {
   "cell_type": "code",
   "execution_count": 12,
   "id": "05c8f240",
   "metadata": {},
   "outputs": [
    {
     "name": "stdout",
     "output_type": "stream",
     "text": [
      "<class 'pandas.core.frame.DataFrame'>\n",
      "RangeIndex: 257 entries, 0 to 256\n",
      "Data columns (total 7 columns):\n",
      " #   Column            Non-Null Count  Dtype  \n",
      "---  ------            --------------  -----  \n",
      " 0   observation_date  257 non-null    object \n",
      " 1   GDP               257 non-null    float64\n",
      " 2   A053RC1Q027SBEA   257 non-null    float64\n",
      " 3   IMPGSC1           257 non-null    float64\n",
      " 4   EXPGSC1           257 non-null    float64\n",
      " 5   GCEC1             257 non-null    float64\n",
      " 6   GDPC1             257 non-null    float64\n",
      "dtypes: float64(6), object(1)\n",
      "memory usage: 14.2+ KB\n"
     ]
    }
   ],
   "source": [
    "quarterly.info()"
   ]
  },
  {
   "cell_type": "code",
   "execution_count": 13,
   "id": "19abeba9-4ede-426e-a915-af6ba520fdd1",
   "metadata": {},
   "outputs": [
    {
     "data": {
      "text/plain": [
       "(769, 7)"
      ]
     },
     "execution_count": 13,
     "metadata": {},
     "output_type": "execute_result"
    }
   ],
   "source": [
    "monthly.shape"
   ]
  },
  {
   "cell_type": "code",
   "execution_count": 14,
   "id": "3b26a3aa",
   "metadata": {},
   "outputs": [
    {
     "data": {
      "text/plain": [
       "(257, 7)"
      ]
     },
     "execution_count": 14,
     "metadata": {},
     "output_type": "execute_result"
    }
   ],
   "source": [
    "quarterly.shape"
   ]
  },
  {
   "cell_type": "code",
   "execution_count": 33,
   "id": "b729a380-fe4e-4f50-96ec-892b8126d0b8",
   "metadata": {},
   "outputs": [],
   "source": [
    "host = r'127.0.0.1'\n",
    "db = r'MSDS610'\n",
    "user = r'postgres'\n",
    "pw = r'didion06'\n",
    "port = r'5432'\n",
    "schema = r'raw' "
   ]
  },
  {
   "cell_type": "code",
   "execution_count": 34,
   "id": "34b69a3a-2b6e-4b64-8400-6ccde71e39bc",
   "metadata": {},
   "outputs": [],
   "source": [
    "db_conn = create_engine(\"postgresql://{}:{}@{}:{}/{}\".format(user, pw, host, port, db))"
   ]
  },
  {
   "cell_type": "code",
   "execution_count": 35,
   "id": "e0a6bc34-9190-4304-96a0-a7cd6d09a3b6",
   "metadata": {},
   "outputs": [
    {
     "data": {
      "text/html": [
       "<div>\n",
       "<style scoped>\n",
       "    .dataframe tbody tr th:only-of-type {\n",
       "        vertical-align: middle;\n",
       "    }\n",
       "\n",
       "    .dataframe tbody tr th {\n",
       "        vertical-align: top;\n",
       "    }\n",
       "\n",
       "    .dataframe thead th {\n",
       "        text-align: right;\n",
       "    }\n",
       "</style>\n",
       "<table border=\"1\" class=\"dataframe\">\n",
       "  <thead>\n",
       "    <tr style=\"text-align: right;\">\n",
       "      <th></th>\n",
       "      <th>table_name</th>\n",
       "    </tr>\n",
       "  </thead>\n",
       "  <tbody>\n",
       "  </tbody>\n",
       "</table>\n",
       "</div>"
      ],
      "text/plain": [
       "Empty DataFrame\n",
       "Columns: [table_name]\n",
       "Index: []"
      ]
     },
     "execution_count": 35,
     "metadata": {},
     "output_type": "execute_result"
    }
   ],
   "source": [
    "sql=\"select tables.table_name from information_schema.tables where (table_schema ='\"+schema+\"')order by 1;\"\n",
    "tbl_df = pd.read_sql(sql, db_conn, index_col=None)\n",
    "tbl_df"
   ]
  },
  {
   "cell_type": "markdown",
   "id": "8ee0e6a2-ffb3-4d99-b675-7c30f143b765",
   "metadata": {},
   "source": [
    "### Loading the data"
   ]
  },
  {
   "cell_type": "code",
   "execution_count": 53,
   "id": "6d340b0b-af5b-423d-8662-6f2887024c15",
   "metadata": {},
   "outputs": [],
   "source": [
    "table1_name = r'monthly_data'\n",
    "table2_name = r'quarterly_data'"
   ]
  },
  {
   "cell_type": "code",
   "execution_count": 54,
   "id": "0a3e3bc7-4736-4ba5-8699-fa7252076ea0",
   "metadata": {},
   "outputs": [
    {
     "data": {
      "text/plain": [
       "257"
      ]
     },
     "execution_count": 54,
     "metadata": {},
     "output_type": "execute_result"
    }
   ],
   "source": [
    "monthly.to_sql(table1_name, con=db_conn, if_exists='replace', index=False, schema=schema, chunksize=1000, method='multi')\n",
    "quarterly.to_sql(table2_name, con=db_conn, if_exists='replace', index=False, schema=schema, chunksize=1000, method='multi')"
   ]
  },
  {
   "cell_type": "code",
   "execution_count": 57,
   "id": "026e2da4-882e-430e-b88b-efa6209b1eb1",
   "metadata": {},
   "outputs": [
    {
     "data": {
      "text/html": [
       "<div>\n",
       "<style scoped>\n",
       "    .dataframe tbody tr th:only-of-type {\n",
       "        vertical-align: middle;\n",
       "    }\n",
       "\n",
       "    .dataframe tbody tr th {\n",
       "        vertical-align: top;\n",
       "    }\n",
       "\n",
       "    .dataframe thead th {\n",
       "        text-align: right;\n",
       "    }\n",
       "</style>\n",
       "<table border=\"1\" class=\"dataframe\">\n",
       "  <thead>\n",
       "    <tr style=\"text-align: right;\">\n",
       "      <th></th>\n",
       "      <th>table_name</th>\n",
       "    </tr>\n",
       "  </thead>\n",
       "  <tbody>\n",
       "    <tr>\n",
       "      <th>0</th>\n",
       "      <td>monthly_data</td>\n",
       "    </tr>\n",
       "    <tr>\n",
       "      <th>1</th>\n",
       "      <td>quarterly_data</td>\n",
       "    </tr>\n",
       "  </tbody>\n",
       "</table>\n",
       "</div>"
      ],
      "text/plain": [
       "       table_name\n",
       "0    monthly_data\n",
       "1  quarterly_data"
      ]
     },
     "execution_count": 57,
     "metadata": {},
     "output_type": "execute_result"
    }
   ],
   "source": [
    "tbl_df = pd.read_sql(sql, db_conn, index_col=None)\n",
    "tbl_df"
   ]
  },
  {
   "cell_type": "markdown",
   "id": "90eca6ff-0f0d-4763-95b1-b6387dea670d",
   "metadata": {},
   "source": [
    "### Retrieving data "
   ]
  },
  {
   "cell_type": "code",
   "execution_count": null,
   "id": "4d5a6a65-6bc2-4c05-a569-5a96815fedff",
   "metadata": {},
   "outputs": [],
   "source": [
    "sql=r'SELECT * FROM ' + schema + '.' + table1_name\n",
    "monthly_check = pd.read_sql(sql, db_conn, index_col=None)\n"
   ]
  },
  {
   "cell_type": "code",
   "execution_count": 60,
   "id": "93477d88-99d6-49b0-8f29-f1ee674ba0e7",
   "metadata": {},
   "outputs": [
    {
     "data": {
      "text/html": [
       "<div>\n",
       "<style scoped>\n",
       "    .dataframe tbody tr th:only-of-type {\n",
       "        vertical-align: middle;\n",
       "    }\n",
       "\n",
       "    .dataframe tbody tr th {\n",
       "        vertical-align: top;\n",
       "    }\n",
       "\n",
       "    .dataframe thead th {\n",
       "        text-align: right;\n",
       "    }\n",
       "</style>\n",
       "<table border=\"1\" class=\"dataframe\">\n",
       "  <thead>\n",
       "    <tr style=\"text-align: right;\">\n",
       "      <th></th>\n",
       "      <th>observation_date</th>\n",
       "      <th>PCE</th>\n",
       "      <th>HOUST</th>\n",
       "      <th>UNRATE</th>\n",
       "      <th>FEDFUNDS</th>\n",
       "      <th>GS10</th>\n",
       "      <th>CPIAUCSL</th>\n",
       "    </tr>\n",
       "  </thead>\n",
       "  <tbody>\n",
       "    <tr>\n",
       "      <th>0</th>\n",
       "      <td>1960-01-01</td>\n",
       "      <td>323.6</td>\n",
       "      <td>1460</td>\n",
       "      <td>5.2</td>\n",
       "      <td>3.99</td>\n",
       "      <td>4.72</td>\n",
       "      <td>29.37</td>\n",
       "    </tr>\n",
       "    <tr>\n",
       "      <th>1</th>\n",
       "      <td>1960-02-01</td>\n",
       "      <td>325.3</td>\n",
       "      <td>1503</td>\n",
       "      <td>4.8</td>\n",
       "      <td>3.97</td>\n",
       "      <td>4.49</td>\n",
       "      <td>29.41</td>\n",
       "    </tr>\n",
       "    <tr>\n",
       "      <th>2</th>\n",
       "      <td>1960-03-01</td>\n",
       "      <td>330.2</td>\n",
       "      <td>1109</td>\n",
       "      <td>5.4</td>\n",
       "      <td>3.84</td>\n",
       "      <td>4.25</td>\n",
       "      <td>29.41</td>\n",
       "    </tr>\n",
       "    <tr>\n",
       "      <th>3</th>\n",
       "      <td>1960-04-01</td>\n",
       "      <td>336.5</td>\n",
       "      <td>1289</td>\n",
       "      <td>5.2</td>\n",
       "      <td>3.92</td>\n",
       "      <td>4.28</td>\n",
       "      <td>29.54</td>\n",
       "    </tr>\n",
       "    <tr>\n",
       "      <th>4</th>\n",
       "      <td>1960-05-01</td>\n",
       "      <td>330.0</td>\n",
       "      <td>1271</td>\n",
       "      <td>5.1</td>\n",
       "      <td>3.85</td>\n",
       "      <td>4.35</td>\n",
       "      <td>29.57</td>\n",
       "    </tr>\n",
       "    <tr>\n",
       "      <th>5</th>\n",
       "      <td>1960-06-01</td>\n",
       "      <td>330.1</td>\n",
       "      <td>1247</td>\n",
       "      <td>5.4</td>\n",
       "      <td>3.32</td>\n",
       "      <td>4.15</td>\n",
       "      <td>29.61</td>\n",
       "    </tr>\n",
       "    <tr>\n",
       "      <th>6</th>\n",
       "      <td>1960-07-01</td>\n",
       "      <td>331.4</td>\n",
       "      <td>1197</td>\n",
       "      <td>5.5</td>\n",
       "      <td>3.23</td>\n",
       "      <td>3.90</td>\n",
       "      <td>29.55</td>\n",
       "    </tr>\n",
       "    <tr>\n",
       "      <th>7</th>\n",
       "      <td>1960-08-01</td>\n",
       "      <td>331.6</td>\n",
       "      <td>1344</td>\n",
       "      <td>5.6</td>\n",
       "      <td>2.98</td>\n",
       "      <td>3.80</td>\n",
       "      <td>29.61</td>\n",
       "    </tr>\n",
       "    <tr>\n",
       "      <th>8</th>\n",
       "      <td>1960-09-01</td>\n",
       "      <td>333.4</td>\n",
       "      <td>1097</td>\n",
       "      <td>5.5</td>\n",
       "      <td>2.60</td>\n",
       "      <td>3.80</td>\n",
       "      <td>29.61</td>\n",
       "    </tr>\n",
       "    <tr>\n",
       "      <th>9</th>\n",
       "      <td>1960-10-01</td>\n",
       "      <td>335.4</td>\n",
       "      <td>1246</td>\n",
       "      <td>6.1</td>\n",
       "      <td>2.47</td>\n",
       "      <td>3.89</td>\n",
       "      <td>29.75</td>\n",
       "    </tr>\n",
       "  </tbody>\n",
       "</table>\n",
       "</div>"
      ],
      "text/plain": [
       "  observation_date    PCE  HOUST  UNRATE  FEDFUNDS  GS10  CPIAUCSL\n",
       "0       1960-01-01  323.6   1460     5.2      3.99  4.72     29.37\n",
       "1       1960-02-01  325.3   1503     4.8      3.97  4.49     29.41\n",
       "2       1960-03-01  330.2   1109     5.4      3.84  4.25     29.41\n",
       "3       1960-04-01  336.5   1289     5.2      3.92  4.28     29.54\n",
       "4       1960-05-01  330.0   1271     5.1      3.85  4.35     29.57\n",
       "5       1960-06-01  330.1   1247     5.4      3.32  4.15     29.61\n",
       "6       1960-07-01  331.4   1197     5.5      3.23  3.90     29.55\n",
       "7       1960-08-01  331.6   1344     5.6      2.98  3.80     29.61\n",
       "8       1960-09-01  333.4   1097     5.5      2.60  3.80     29.61\n",
       "9       1960-10-01  335.4   1246     6.1      2.47  3.89     29.75"
      ]
     },
     "execution_count": 60,
     "metadata": {},
     "output_type": "execute_result"
    }
   ],
   "source": [
    "monthly_check.head(10)"
   ]
  },
  {
   "cell_type": "code",
   "execution_count": 61,
   "id": "a1ef3bd5",
   "metadata": {},
   "outputs": [],
   "source": [
    "sql=r'SELECT * FROM ' + schema + '.' + table2_name\n",
    "quarterly_check = pd.read_sql(sql, db_conn, index_col=None)"
   ]
  },
  {
   "cell_type": "code",
   "execution_count": 62,
   "id": "09406674",
   "metadata": {},
   "outputs": [
    {
     "data": {
      "text/html": [
       "<div>\n",
       "<style scoped>\n",
       "    .dataframe tbody tr th:only-of-type {\n",
       "        vertical-align: middle;\n",
       "    }\n",
       "\n",
       "    .dataframe tbody tr th {\n",
       "        vertical-align: top;\n",
       "    }\n",
       "\n",
       "    .dataframe thead th {\n",
       "        text-align: right;\n",
       "    }\n",
       "</style>\n",
       "<table border=\"1\" class=\"dataframe\">\n",
       "  <thead>\n",
       "    <tr style=\"text-align: right;\">\n",
       "      <th></th>\n",
       "      <th>observation_date</th>\n",
       "      <th>GDP</th>\n",
       "      <th>A053RC1Q027SBEA</th>\n",
       "      <th>IMPGSC1</th>\n",
       "      <th>EXPGSC1</th>\n",
       "      <th>GCEC1</th>\n",
       "      <th>GDPC1</th>\n",
       "    </tr>\n",
       "  </thead>\n",
       "  <tbody>\n",
       "    <tr>\n",
       "      <th>0</th>\n",
       "      <td>1960-01-01</td>\n",
       "      <td>542.648</td>\n",
       "      <td>58.778</td>\n",
       "      <td>123.608</td>\n",
       "      <td>104.686</td>\n",
       "      <td>1137.363</td>\n",
       "      <td>3517.181</td>\n",
       "    </tr>\n",
       "    <tr>\n",
       "      <th>1</th>\n",
       "      <td>1960-04-01</td>\n",
       "      <td>541.080</td>\n",
       "      <td>54.428</td>\n",
       "      <td>124.527</td>\n",
       "      <td>107.689</td>\n",
       "      <td>1150.170</td>\n",
       "      <td>3498.246</td>\n",
       "    </tr>\n",
       "    <tr>\n",
       "      <th>2</th>\n",
       "      <td>1960-07-01</td>\n",
       "      <td>545.604</td>\n",
       "      <td>52.155</td>\n",
       "      <td>120.857</td>\n",
       "      <td>110.036</td>\n",
       "      <td>1178.324</td>\n",
       "      <td>3515.385</td>\n",
       "    </tr>\n",
       "    <tr>\n",
       "      <th>3</th>\n",
       "      <td>1960-10-01</td>\n",
       "      <td>540.197</td>\n",
       "      <td>50.050</td>\n",
       "      <td>115.156</td>\n",
       "      <td>110.622</td>\n",
       "      <td>1186.511</td>\n",
       "      <td>3470.278</td>\n",
       "    </tr>\n",
       "    <tr>\n",
       "      <th>4</th>\n",
       "      <td>1961-01-01</td>\n",
       "      <td>545.018</td>\n",
       "      <td>49.179</td>\n",
       "      <td>114.599</td>\n",
       "      <td>109.861</td>\n",
       "      <td>1204.136</td>\n",
       "      <td>3493.703</td>\n",
       "    </tr>\n",
       "    <tr>\n",
       "      <th>5</th>\n",
       "      <td>1961-04-01</td>\n",
       "      <td>555.545</td>\n",
       "      <td>52.095</td>\n",
       "      <td>115.998</td>\n",
       "      <td>104.748</td>\n",
       "      <td>1207.172</td>\n",
       "      <td>3553.021</td>\n",
       "    </tr>\n",
       "    <tr>\n",
       "      <th>6</th>\n",
       "      <td>1961-07-01</td>\n",
       "      <td>567.664</td>\n",
       "      <td>55.033</td>\n",
       "      <td>123.682</td>\n",
       "      <td>109.482</td>\n",
       "      <td>1232.997</td>\n",
       "      <td>3621.252</td>\n",
       "    </tr>\n",
       "    <tr>\n",
       "      <th>7</th>\n",
       "      <td>1961-10-01</td>\n",
       "      <td>580.612</td>\n",
       "      <td>59.311</td>\n",
       "      <td>126.623</td>\n",
       "      <td>111.267</td>\n",
       "      <td>1260.059</td>\n",
       "      <td>3692.289</td>\n",
       "    </tr>\n",
       "    <tr>\n",
       "      <th>8</th>\n",
       "      <td>1962-01-01</td>\n",
       "      <td>594.013</td>\n",
       "      <td>58.340</td>\n",
       "      <td>130.476</td>\n",
       "      <td>110.613</td>\n",
       "      <td>1284.377</td>\n",
       "      <td>3758.147</td>\n",
       "    </tr>\n",
       "    <tr>\n",
       "      <th>9</th>\n",
       "      <td>1962-04-01</td>\n",
       "      <td>600.366</td>\n",
       "      <td>58.026</td>\n",
       "      <td>133.323</td>\n",
       "      <td>116.970</td>\n",
       "      <td>1290.924</td>\n",
       "      <td>3792.149</td>\n",
       "    </tr>\n",
       "  </tbody>\n",
       "</table>\n",
       "</div>"
      ],
      "text/plain": [
       "  observation_date      GDP  A053RC1Q027SBEA  IMPGSC1  EXPGSC1     GCEC1  \\\n",
       "0       1960-01-01  542.648           58.778  123.608  104.686  1137.363   \n",
       "1       1960-04-01  541.080           54.428  124.527  107.689  1150.170   \n",
       "2       1960-07-01  545.604           52.155  120.857  110.036  1178.324   \n",
       "3       1960-10-01  540.197           50.050  115.156  110.622  1186.511   \n",
       "4       1961-01-01  545.018           49.179  114.599  109.861  1204.136   \n",
       "5       1961-04-01  555.545           52.095  115.998  104.748  1207.172   \n",
       "6       1961-07-01  567.664           55.033  123.682  109.482  1232.997   \n",
       "7       1961-10-01  580.612           59.311  126.623  111.267  1260.059   \n",
       "8       1962-01-01  594.013           58.340  130.476  110.613  1284.377   \n",
       "9       1962-04-01  600.366           58.026  133.323  116.970  1290.924   \n",
       "\n",
       "      GDPC1  \n",
       "0  3517.181  \n",
       "1  3498.246  \n",
       "2  3515.385  \n",
       "3  3470.278  \n",
       "4  3493.703  \n",
       "5  3553.021  \n",
       "6  3621.252  \n",
       "7  3692.289  \n",
       "8  3758.147  \n",
       "9  3792.149  "
      ]
     },
     "execution_count": 62,
     "metadata": {},
     "output_type": "execute_result"
    }
   ],
   "source": [
    "quarterly_check.head(10)"
   ]
  }
 ],
 "metadata": {
  "kernelspec": {
   "display_name": "base",
   "language": "python",
   "name": "python3"
  },
  "language_info": {
   "codemirror_mode": {
    "name": "ipython",
    "version": 3
   },
   "file_extension": ".py",
   "mimetype": "text/x-python",
   "name": "python",
   "nbconvert_exporter": "python",
   "pygments_lexer": "ipython3",
   "version": "3.12.2"
  }
 },
 "nbformat": 4,
 "nbformat_minor": 5
}
